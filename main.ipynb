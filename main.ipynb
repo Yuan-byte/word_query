{
 "cells": [
  {
   "cell_type": "code",
   "execution_count": 58,
   "metadata": {
    "collapsed": true
   },
   "outputs": [],
   "source": [
    "import requests\n",
    "import time\n",
    "import hashlib"
   ]
  },
  {
   "cell_type": "code",
   "execution_count": 59,
   "outputs": [],
   "source": [
    "YOUDAO_URL = \"https://dict.youdao.com/jsonapi_s\"\n",
    "\n",
    "YOUDAO_QUERY = {\n",
    "    \"doctype\": \"json\",\n",
    "    \"jsonversion\": 4\n",
    "}\n",
    "\n",
    "APP_KEY = \"Mk6hqtUp33DGGtoS63tTJbMUYjRrG1Lu\"\n",
    "\n",
    "\n",
    "def YOUDAO_WORD(word):\n",
    "    return f\"q={word}&appKey=1c81b216d114ced1&salt=1660396042212&from=en&to=zh-CHS&sign=e5dab2a7bd31e67f3959ed79e6db2083082d6a74166c46324a106d7099f4b600&signType=v3&curtime={int(time.time())}&headers%5BContent-Type%5D=application%2Fx-www-form-urlencoded\"\n",
    "\n",
    "\n",
    "from enum import Enum\n",
    "\n",
    "\n",
    "def encrpted(data: str):\n",
    "    return hashlib.md5(data.encode('utf-8')).hexdigest()\n",
    "\n",
    "\n",
    "# le:语言类型\n",
    "def api_data(word: str, dicts=\"dicts=ce&dicts=ec\", language: str = \"en\", client=\"web\", keyfrom=\"webdict\"):\n",
    "    time = len(word + keyfrom) % 10\n",
    "    salt = encrpted(word + keyfrom)\n",
    "    sign = encrpted(client + word + str(time) + APP_KEY + salt)\n",
    "    # print(client + word + str(time) + APP_KEY + salt)\n",
    "    data = f\"q={word}&le={language}&t={time}&client=web&sign={sign}&keyfrom={keyfrom}\"\n",
    "    return data\n",
    "\n",
    "\n",
    "class DicSource(Enum):\n",
    "    UNCLEAR = \"unclear\"\n",
    "    YOUDAO = \"youdao\"\n",
    "\n"
   ],
   "metadata": {
    "collapsed": false,
    "pycharm": {
     "name": "#%%\n"
    }
   }
  },
  {
   "cell_type": "code",
   "execution_count": 60,
   "outputs": [],
   "source": [
    "\n",
    "class Word:\n",
    "    word: str = \"\",\n",
    "    usphonetic: str = \"\",\n",
    "    ukphonetic: str = \"\",\n",
    "    meaning: str = \"\",\n",
    "    example: str = \"\",\n",
    "    source: DicSource = DicSource.UNCLEAR,\n",
    "    exam: str = \"\",\n",
    "\n",
    "    def __init__(self, word: str, usphonetic: str,\n",
    "                 ukphonetic: str, meaning: str, example: str,\n",
    "                 source: DicSource, exam: str):\n",
    "        self.word = word\n",
    "        self.usphonetic = usphonetic\n",
    "        self.ukphonetic = ukphonetic\n",
    "        self.meaning = meaning\n",
    "        self.example = example\n",
    "        self.source = source\n",
    "        self.exam = exam\n",
    "\n",
    "    def __str__(self):\n",
    "        return \"word : %s,usphonetic : %s, ukphonetic : %10s, meaning : %s, example : %s, exam: %s, source : %s\" % (\n",
    "            self.word, self.usphonetic, self.ukphonetic, self.meaning, self.example, self.exam, self.source)\n",
    "\n",
    "\n"
   ],
   "metadata": {
    "collapsed": false,
    "pycharm": {
     "name": "#%%\n"
    }
   }
  },
  {
   "cell_type": "code",
   "execution_count": 61,
   "outputs": [],
   "source": [
    "import logging\n",
    "\n",
    "\n",
    "# obtain all information from youdao's api.\n",
    "def __parse_word_from_youdao(word: str):\n",
    "    try:\n",
    "        details = requests.post(YOUDAO_URL, params=YOUDAO_QUERY, data=api_data(word), headers={\n",
    "            \"content-type\": \"application/x-www-form-urlencoded\"\n",
    "        }).json()\n",
    "        # concise dictionary\n",
    "        if \"ec\" in details and \"word\" in details.get(\"ec\", \"\"):\n",
    "            basic = details['ec']\n",
    "            trs = basic['word']['trs']\n",
    "            # print(trs)\n",
    "            meaning = \"\"\n",
    "            for tr in trs:\n",
    "                meaning += tr.pop(\"pos\", \"\") + tr['tran'] + ';'\n",
    "            return Word(\n",
    "                basic['word']['return-phrase'],\n",
    "                usphonetic=basic['word'].pop(\"usphone\", \"\"),\n",
    "                ukphonetic=basic['word'].pop(\"ukphone\", \"\"),\n",
    "                meaning=meaning,\n",
    "                example=details['blng_sents_part']['sentence-pair'][0]['sentence'],\n",
    "                source=DicSource.YOUDAO,\n",
    "                exam=\"，\".join(basic.pop('exam_type', [\"未知\"]))\n",
    "            )\n",
    "        else:\n",
    "            return None\n",
    "\n",
    "    except ValueError:\n",
    "        print(\"Parsing value failed!\", word)\n",
    "    except NameError:\n",
    "        print(\"Parsing name failed!\", word)\n",
    "    except KeyError as error:\n",
    "        print(\"Parsing key failed!\", word)\n",
    "        logging.exception(error)\n",
    "\n",
    "\n",
    "def query_word(source: DicSource, word: str):\n",
    "    if source == DicSource.YOUDAO:\n",
    "        return __parse_word_from_youdao(word)"
   ],
   "metadata": {
    "collapsed": false,
    "pycharm": {
     "name": "#%%\n"
    }
   }
  },
  {
   "cell_type": "code",
   "execution_count": 62,
   "outputs": [
    {
     "name": "stdout",
     "output_type": "stream",
     "text": [
      "q=intricate&le=en&t=6&client=web&sign=7cd29ed159942a0107a21a80fe634581&keyfrom=webdict\n"
     ]
    }
   ],
   "source": [
    "print(api_data(\"intricate\"))"
   ],
   "metadata": {
    "collapsed": false,
    "pycharm": {
     "name": "#%%\n"
    }
   }
  },
  {
   "cell_type": "code",
   "execution_count": 63,
   "outputs": [
    {
     "name": "stdout",
     "output_type": "stream",
     "text": [
      "word : rent,usphonetic : rent, ukphonetic :       rent, meaning : n.租金，租用费；（布等上面的）破洞，裂口;vt.租用，租借；出租，将……租给； 可租用，租金为;v.撕裂，扯碎；（声音）响彻，刺破；<文>使心碎（rend 的过去式和过去分词形式）;【名】  （Rent）（瑞典）伦特（人名）;, example : His landlord doubled the rent., exam: 初中，高中，CET4，CET6，考研，IELTS，GRE，商务英语, source : DicSource.YOUDAO\n"
     ]
    }
   ],
   "source": [
    "demo_word = query_word(DicSource.YOUDAO, \"rent\")\n",
    "print(demo_word)"
   ],
   "metadata": {
    "collapsed": false,
    "pycharm": {
     "name": "#%%\n"
    }
   }
  },
  {
   "cell_type": "code",
   "execution_count": 71,
   "outputs": [],
   "source": [
    "import csv\n",
    "\n",
    "csv_reader = csv.reader(open(\"./形近单词.txt\"))\n",
    "word_list = []\n",
    "for line in csv_reader:\n",
    "    for word in line:\n",
    "        if word.strip() != '':\n",
    "            word_list.append(word.strip())"
   ],
   "metadata": {
    "collapsed": false,
    "pycharm": {
     "name": "#%%\n"
    }
   }
  },
  {
   "cell_type": "code",
   "execution_count": 72,
   "outputs": [],
   "source": [
    "# 创建一个csv文件，存放生成的单词\n",
    "headers = [\"单词\", \"美音\", \"英音\", \"考试等级\", \"意思\", \"例句\", \"来源\"]\n",
    "start = 0\n",
    "failed = []\n",
    "with open(\"生成的形近单词.csv\", \"w+\", encoding='utf-8') as csvfile:\n",
    "    csv_writer = csv.writer(csvfile)\n",
    "    # 先写入列名\n",
    "    if start == 0:\n",
    "        csv_writer.writerow(headers)\n",
    "    counter = 0\n",
    "    cw = \"\"\n",
    "    for word in word_list:\n",
    "        try:\n",
    "            cw = word\n",
    "            if start <= counter:\n",
    "                current_word = query_word(DicSource.YOUDAO, word)\n",
    "                if current_word is not None:\n",
    "                    csv_writer.writerow([current_word.word, current_word.usphonetic, current_word.usphonetic,\n",
    "                                         current_word.exam, current_word.meaning,\n",
    "                                         current_word.example, current_word.source.value])\n",
    "                else:\n",
    "                    print(\"查询失败:\", word, counter)\n",
    "            counter += 1\n",
    "        except TypeError as error:\n",
    "            print(\"TypeError\", cw, \";counter:\", counter)"
   ],
   "metadata": {
    "collapsed": false,
    "pycharm": {
     "name": "#%%\n"
    }
   }
  },
  {
   "cell_type": "code",
   "execution_count": 66,
   "outputs": [
    {
     "name": "stdout",
     "output_type": "stream",
     "text": [
      "1660465429.1471472\n",
      "1660465463.2886968\n"
     ]
    }
   ],
   "source": [
    "print(time.time())"
   ],
   "metadata": {
    "collapsed": false,
    "pycharm": {
     "name": "#%%\n"
    }
   }
  }
 ],
 "metadata": {
  "kernelspec": {
   "display_name": "Python 3",
   "language": "python",
   "name": "python3"
  },
  "language_info": {
   "codemirror_mode": {
    "name": "ipython",
    "version": 2
   },
   "file_extension": ".py",
   "mimetype": "text/x-python",
   "name": "python",
   "nbconvert_exporter": "python",
   "pygments_lexer": "ipython2",
   "version": "2.7.6"
  }
 },
 "nbformat": 4,
 "nbformat_minor": 0
}